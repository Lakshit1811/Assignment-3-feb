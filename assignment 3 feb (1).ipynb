{
 "cells": [
  {
   "cell_type": "markdown",
   "id": "b60466de-bc62-4399-8a1c-c14c2523e6ff",
   "metadata": {},
   "source": [
    "def keyword is used to create function in python\n",
    "def odd_numbers():\n",
    "    odd_list = []\n",
    "    for i in range(1, 26):\n",
    "        if i % 2 != 0:\n",
    "            odd_list.append(i)\n",
    "    return odd_list"
   ]
  },
  {
   "cell_type": "markdown",
   "id": "146863bc-b615-46fb-b91c-453698380b8d",
   "metadata": {},
   "source": [
    "*args and **kwargs are used in functions to allow them to take a variable number of arguments.\n",
    "\n",
    "*args is used to pass a non-keyworded, variable length argument list to the function. The * in *args is used to denote that it is a variable length argument list. The arguments are passed to the function as a tuple.\n",
    "def print_args(*args):\n",
    "    for arg in args:\n",
    "        print(arg)\n",
    "        \n",
    "        **kwargs is used to pass keyworded, variable length arguments to the function. The ** in **kwargs is used to denote that it is a keyworded, variable length argument list. The arguments are passed to the function as a dictionary\n",
    "        def print_kwargs(**kwargs):\n",
    "    for key, value in kwargs.items():\n",
    "        print(f\"{key}: {value}\")"
   ]
  },
  {
   "cell_type": "markdown",
   "id": "044952d4-f324-4b96-9b57-9112de0328e9",
   "metadata": {},
   "source": [
    "In Python, an iterator is an object that can be iterated upon, meaning you can traverse through all the values. An object which implements the iterator protocol is called an iterator. The iterator protocol consists of two methods: _iter() and __next_().\n",
    "\n",
    "The _iter() method is used to initialize the iterator object, and the __next_() method is used for iteration.\n",
    "\n",
    "numbers = [2, 4, 6, 8, 10, 12, 14, 16, 18, 20]\n",
    "\n",
    "class IterateList:\n",
    "    def _init_(self, numbers):\n",
    "        self.numbers = numbers\n",
    "        self.index = 0\n",
    "    \n",
    "    def _iter_(self):\n",
    "        return self\n",
    "    \n",
    "    def _next_(self):\n",
    "        if self.index < len(self.numbers):\n",
    "            result = self.numbers[self.index]\n",
    "            self.index += 1\n",
    "            return result\n",
    "        else:\n",
    "            raise StopIteration\n",
    "\n",
    "numbers_iterator = IterateList(numbers)\n",
    "for i in range(5):\n",
    "    print(next(numbers_iterator))"
   ]
  },
  {
   "cell_type": "markdown",
   "id": "2accaa1d-98a6-466b-a9f7-0aa1a9795e08",
   "metadata": {},
   "source": [
    "A generator function in Python is a special type of function that returns a generator iterator, which is an object that can be iterated (looped) upon. The generator function is defined like a normal function, but instead of using the return keyword to return a value, it uses the yield keyword.\n",
    "\n",
    "The yield keyword is used to return a value from the generator function and pause the function’s execution, preserving its state. The next time the generator is called, the function resumes its execution right where it left off, allowing it to produce the next value. This is what makes generator functions a powerful tool for creating iterators."
   ]
  },
  {
   "cell_type": "code",
   "execution_count": 1,
   "id": "526ee261-0be4-4827-8e51-7f9b4de65c5f",
   "metadata": {},
   "outputs": [
    {
     "name": "stdout",
     "output_type": "stream",
     "text": [
      "1\n",
      "4\n",
      "9\n",
      "16\n",
      "25\n"
     ]
    }
   ],
   "source": [
    "def squares(numbers):\n",
    "    for number in numbers:\n",
    "        yield number * number\n",
    "\n",
    "squared_numbers = squares([1, 2, 3, 4, 5])\n",
    "for number in squared_numbers:\n",
    "    print(number)"
   ]
  },
  {
   "cell_type": "code",
   "execution_count": 2,
   "id": "e8f3401e-64f1-4a1e-aae0-98094857a485",
   "metadata": {},
   "outputs": [
    {
     "name": "stdout",
     "output_type": "stream",
     "text": [
      "2\n",
      "3\n",
      "5\n",
      "7\n",
      "11\n",
      "13\n",
      "17\n",
      "19\n",
      "23\n",
      "29\n",
      "31\n",
      "37\n",
      "41\n",
      "43\n",
      "47\n",
      "53\n",
      "59\n",
      "61\n",
      "67\n",
      "71\n"
     ]
    }
   ],
   "source": [
    "def prime_numbers():\n",
    "    yield 2\n",
    "    primes = [2]\n",
    "    candidate = 3\n",
    "    while candidate < 1000:\n",
    "        is_prime = True\n",
    "        for prime in primes:\n",
    "            if candidate % prime == 0:\n",
    "                is_prime = False\n",
    "                break\n",
    "        if is_prime:\n",
    "            primes.append(candidate)\n",
    "            yield candidate\n",
    "        candidate += 2\n",
    "\n",
    "prime_gen = prime_numbers()\n",
    "for i in range(20):\n",
    "    print(next(prime_gen))"
   ]
  },
  {
   "cell_type": "code",
   "execution_count": 4,
   "id": "eac0d4b3-cb2a-4e3d-b08e-b15e7690881c",
   "metadata": {},
   "outputs": [
    {
     "name": "stdout",
     "output_type": "stream",
     "text": [
      "0\n",
      "1\n",
      "1\n",
      "2\n",
      "3\n",
      "5\n",
      "8\n",
      "13\n",
      "21\n",
      "34\n"
     ]
    }
   ],
   "source": [
    "def fibonacci():\n",
    "    a, b = 0, 1\n",
    "    while True:\n",
    "        yield a\n",
    "        a, b = b, a + b\n",
    "\n",
    "fib = fibonacci()\n",
    "for i in range(10):\n",
    "    print(next(fib))"
   ]
  },
  {
   "cell_type": "code",
   "execution_count": 5,
   "id": "f0c913f1-e166-4247-a97c-1312a1569538",
   "metadata": {},
   "outputs": [
    {
     "name": "stdout",
     "output_type": "stream",
     "text": [
      "['p', 'w', 's', 'k', 'i', 'l', 'l', 's']\n"
     ]
    }
   ],
   "source": [
    "string = 'pwskills'\n",
    "result = [char for char in string]\n",
    "print(result)"
   ]
  },
  {
   "cell_type": "code",
   "execution_count": 6,
   "id": "b1259fb8-9c5b-4d94-b86f-a5dc6beb8deb",
   "metadata": {},
   "outputs": [
    {
     "name": "stdin",
     "output_type": "stream",
     "text": [
      "Enter a number:  101\n"
     ]
    },
    {
     "name": "stdout",
     "output_type": "stream",
     "text": [
      "101 is a palindrome.\n"
     ]
    }
   ],
   "source": [
    "def is_palindrome(number):\n",
    "    original = number\n",
    "    reversed_number = 0\n",
    "    while number > 0:\n",
    "        reversed_number = reversed_number * 10 + number % 10\n",
    "        number = number // 10\n",
    "    return original == reversed_number\n",
    "\n",
    "number = int(input(\"Enter a number: \"))\n",
    "if is_palindrome(number):\n",
    "    print(f\"{number} is a palindrome.\")\n",
    "else:\n",
    "    print(f\"{number} is not a palindrome.\")\n",
    "    #This program takes an input number, reverses it, and then compares it with the original number. If both are the same, the number is a palindrome; otherwise, it is not a palindrome.#"
   ]
  },
  {
   "cell_type": "code",
   "execution_count": 7,
   "id": "91f4b1c5-9658-4880-9268-7e3b895947b8",
   "metadata": {},
   "outputs": [
    {
     "name": "stdout",
     "output_type": "stream",
     "text": [
      "[1, 3, 5, 7, 9, 11, 13, 15, 17, 19, 21, 23, 25, 27, 29, 31, 33, 35, 37, 39, 41, 43, 45, 47, 49, 51, 53, 55, 57, 59, 61, 63, 65, 67, 69, 71, 73, 75, 77, 79, 81, 83, 85, 87, 89, 91, 93, 95, 97, 99]\n"
     ]
    }
   ],
   "source": [
    "odd_numbers = [num for num in range(1, 101) if num % 2 != 0]\n",
    "print(odd_numbers)"
   ]
  },
  {
   "cell_type": "code",
   "execution_count": null,
   "id": "694d4800-0e8b-4212-9b1c-7624cce651b5",
   "metadata": {},
   "outputs": [],
   "source": []
  }
 ],
 "metadata": {
  "kernelspec": {
   "display_name": "Python 3 (ipykernel)",
   "language": "python",
   "name": "python3"
  },
  "language_info": {
   "codemirror_mode": {
    "name": "ipython",
    "version": 3
   },
   "file_extension": ".py",
   "mimetype": "text/x-python",
   "name": "python",
   "nbconvert_exporter": "python",
   "pygments_lexer": "ipython3",
   "version": "3.10.8"
  }
 },
 "nbformat": 4,
 "nbformat_minor": 5
}
